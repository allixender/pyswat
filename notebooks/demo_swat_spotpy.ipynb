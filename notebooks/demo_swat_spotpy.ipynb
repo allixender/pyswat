{
 "cells": [
  {
   "cell_type": "code",
   "execution_count": 1,
   "metadata": {},
   "outputs": [],
   "source": [
    "import numpy as np\n",
    "import subprocess as sub\n",
    "import SWAT_ReadOut as read\n",
    "from SWAT_Manipulate import rteManipulator\n",
    "from SWAT_Manipulate import bsnManipulator\n",
    "from SWAT_Manipulate import gwManipulator\n",
    "from SWAT_Manipulate import solManipulator\n",
    "from SWAT_Manipulate import mgtManipulator\n",
    "from SWAT_Manipulate import hruManipulator\n",
    "import os, shutil\n",
    "\n",
    "from mpi4py import MPI\n",
    "\n",
    "import spotpy"
   ]
  },
  {
   "cell_type": "code",
   "execution_count": 6,
   "metadata": {},
   "outputs": [],
   "source": [
    "class spot_setup(object):\n",
    "    def __init__(self,para):\n",
    "        self.parameter_fname = 'input_wwr_hp.txt'\n",
    "        self.observeddata_fname = 'observed'+os.sep+'discharge2.txt'\n",
    "        self.observeddata = np.loadtxt(self.observeddata_fname)\n",
    "        self.nr_of_observations = len(self.observeddata)\n",
    "        self.para = para\n",
    "        self.parf = np.genfromtxt(self.parameter_fname, delimiter=',', dtype=None, encoding='utf-8')\n",
    "        self.params = []\n",
    "        for i in range(len(self.parf)):\n",
    "            self.params.append(\n",
    "                spotpy.parameter.Uniform(\n",
    "                    self.parf[i][0], self.parf[i][1], np.mean( [self.parf[i][1],self.parf[i][2]] )))\n",
    "    \n",
    "    \n",
    "    def parameters(self):\n",
    "        return spotpy.parameter.generate(self.params)\n",
    "    \n",
    "    \n",
    "    def onerror(self, func, path, exc_info):\n",
    "        \"\"\"\n",
    "        Error handler for ``shutil.rmtree``.\n",
    "    \n",
    "        If the error is due to an access error (read only file)\n",
    "        it attempts to add write permission and then retries.\n",
    "    \n",
    "        If the error is for another reason it re-raises the error.\n",
    "    \n",
    "        Usage : ``shutil.rmtree(path, onerror=onerror)``\n",
    "        \"\"\"\n",
    "        import stat\n",
    "        if not os.access(path, os.W_OK):\n",
    "            # Is the error an access error ?\n",
    "            os.chmod(path, stat.S_IWUSR)\n",
    "            func(path)\n",
    "        else:\n",
    "            raise\n",
    "    \n",
    "    \n",
    "    def evaluation(self):\n",
    "        # Load Observation data here and return them as lists [[],[],[]...]\n",
    "        observationdatalists = []\n",
    "        observationdatalists.append(self.observeddata)        \n",
    "        return observationdatalists\n",
    "    \n",
    "    \n",
    "    def objectivefunction(self,simulation,evaluation):\n",
    "        indexs=[]      \n",
    "        for obs in evaluation:\n",
    "            index=[]\n",
    "            for i in range(len(obs)):\n",
    "                if not obs[i] == -9999: #used for missing observation data\n",
    "                    index.append(i)                    \n",
    "            indexs.append(index)\n",
    "        sub1 = np.array(simulation[0])\n",
    "        sub = np.array(sub1)[indexs[0]] \n",
    "        sub_nse1 = spotpy.objectivefunctions.lognashsutcliffe(evaluation[0][indexs[0]],sub, epsilon=0.001)\n",
    "        sub_nse = sub_nse1 - 1\n",
    "        return sub_nse\n",
    "    \n",
    "    \n",
    "    # import datetime as DT \n",
    "    # def make_date(datestr):\n",
    "    #     return DT.datetime.strptime(datestr, '%Y%m%d')\n",
    "    \n",
    "    \n",
    "    def simulation(self,vector):    \n",
    "        # if self.para == 'mpi':\n",
    "        try:\n",
    "            # +1 to prevent zero if necessary...\n",
    "            core_nr = str(int(os.environ['OMPI_COMM_WORLD_RANK']))\n",
    "        except KeyError:\n",
    "            # if you run on windows\n",
    "            core_nr = str(1)\n",
    "            #str(int(np.random.uniform(0,1000)))\n",
    "        pathdir = 'calib_parallel'+ os.sep +'parallel_'+core_nr \n",
    "        if os.path.exists(pathdir+ os.sep):\n",
    "            print('Deleting folder ' + pathdir)\n",
    "            shutil.rmtree(pathdir, onerror=self.onerror)\n",
    "            print('Copying folder ' + pathdir)\n",
    "            shutil.copytree('TxtInOut', pathdir)\n",
    "        else:\n",
    "            print('Copying folder ' + pathdir)\n",
    "            shutil.copytree('TxtInOut', pathdir)\n",
    "        files=os.listdir(pathdir)\n",
    "        \n",
    "        # else:\n",
    "        #     files=os.listdir('TxtInOut')\n",
    "        #     files=os.listdir('calib_parallel'+os.sep+'parallel_'+core_nr)\n",
    "\n",
    "        #     for i in range(len(self.parnames)):\n",
    "        #         rtefiles = [i for i in files if i.endswith(\".rte\")]\n",
    "        #         for d in rte:\n",
    "        #             if name in d.parInfo:\n",
    "        #                 d.setChangePar(self.parnames[i],vector[i],self.parroutine[i]w)\n",
    "        #                     for d in gw:\n",
    "        #                         if name in d.parInfo:\n",
    "        #                         d.setChangePar(self.parnames[i],vector[i],self.parroutine[i]w)\n",
    "            \n",
    "        manipulators = {}\n",
    "        \n",
    "        ### here all parameters from the bsn-file are assigned in the dictionary for calibration\n",
    "        bsnfiles = [i for i in files if i.endswith(\".bsn\")]\n",
    "        bsn = []\n",
    "        for i in bsnfiles:\n",
    "            bsn.append(bsnManipulator(i, [\"SURLAG\",\"SFTMP\",\"SMTMP\",\"TIMP\",\"ESCO\",\"EPCO\"], core_nr))\n",
    "        manipulators[\"bsn\"] = bsn\n",
    "        \n",
    "        ### here all parameters from the gw-file are assigned in the dictionary for calibration\n",
    "        gwfiles = [i for i in files if i.endswith(\".gw\")]\n",
    "        gw = []\n",
    "        for i in gwfiles:\n",
    "            gw.append(gwManipulator(i, [\"GW_DELAY\",\"ALPHA_BF\",\"GW_REVAP\",\"GWQMN\",\"RCHRG_DP\",\"REVAPMN\"], core_nr))\n",
    "        manipulators[\"gw\"] = gw\n",
    "       \n",
    "        ### here all parameters from the sol-file are assigned in the dictionary for calibration\n",
    "        solfiles = [i for i in files if i.endswith(\".sol\")]\n",
    "        sol = []\n",
    "        for i in solfiles:\n",
    "            if solManipulator(i,[],core_nr).landuse != \"URBN\":\n",
    "                sol.append(solManipulator(i, [\"SOL_K\",\"ROCK\",\"SOL_AWC\"], core_nr))\n",
    "        manipulators[\"sol\"] = sol\n",
    "        \n",
    "        ## here all parameters from the hru-file are assigned in the dictionary for calibration\n",
    "        hrufiles= [i for i in files if i.endswith(\".hru\")]\n",
    "        hru=[]\n",
    "        for i in hrufiles:\n",
    "            if i[0].isdigit():\n",
    "                hru.append(hruManipulator(i, [\"HRU_FR\",\"ESCO\",\"EPCO\",\"OV_N\",\"CANMX\"], core_nr))\n",
    "        manipulators[\"hru\"] = hru\n",
    "        \n",
    "        ### here all parameters from the rte-file are assigned in the dictionary for calibration\n",
    "        rtefiles = [i for i in files if i.endswith(\".rte\")]\n",
    "        rte = []\n",
    "        for i in rtefiles:\n",
    "            rte.append(rteManipulator(i, [\"CH_N2\", \"CH_K2\"], core_nr))\n",
    "        manipulators[\"rte\"] = rte\n",
    "        \n",
    "        ### here all parameters from the mgt-file are assigned in the dictionary for calibration\n",
    "        mgtfiles = [i for i in files if i.endswith(\".mgt\")]\n",
    "        mgt = []\n",
    "        for i in mgtfiles:\n",
    "            mgt.append(mgtManipulator(i, [\"CN2\"], core_nr))\n",
    "        manipulators[\"mgt\"] = mgt\n",
    "        \n",
    "        ### lists with subbasins which should receive different groundwater and routing parameters\n",
    "        #gw1=[\"1\"]\n",
    "        #gw2=[\"10\",\"11\"]\n",
    "        \n",
    "        ### here the file containing all parameter values is loaded\n",
    "        data=vector\n",
    "              \n",
    "        #### here the iteration starts -> the loop iterates through the total number of parameter combinations\n",
    "        #data[i,1]\n",
    "        sftmp = data[0]\n",
    "        ksat = data[1]\n",
    "        ch_n2 = data[2]\n",
    "        delay = data[3]\n",
    "        CN2 = data[4]\n",
    "        ESCO = data[5]\n",
    "        \n",
    "        ## the parameters in the bsn files are changed\n",
    "        for d in bsn:\n",
    "            d.setChangePar(\"SFTMP\",sftmp,\"s\")\n",
    "            d.finishChangePar(core_nr)\n",
    "        \n",
    "        ##  the parameters in the sol files are changed\n",
    "        for d in sol:\n",
    "            d.setChangePar(\"SOL_K\",ksat,\"*\")\n",
    "            d.finishChangePar(core_nr)\n",
    "    \n",
    "        ## the parameters in the rte files are changed -> the algorithm checks the number of the subbasin and assigns the parameter according\n",
    "        ## to the list specified above\n",
    "        for d in rte:\n",
    "            d.setChangePar(\"CH_N2\",ch_n2,\"s\")\n",
    "            d.finishChangePar(core_nr)\n",
    "\n",
    "        ## the parameters in the gw files are changed -> the algorithm checks the number of the subbasin and assigns the parameter according\n",
    "        ## to the list specified above\n",
    "        for d in gw:\n",
    "            # here different groundwater parameters are applied for different subbasins\n",
    "            # groundwater region I\n",
    "            # if d.subbasin in gw1:\n",
    "            d.setChangePar(\"GW_DELAY\",delay,\"s\")\n",
    "            # groundwater region II\n",
    "            #else:\n",
    "            d.finishChangePar(core_nr)\n",
    "             \n",
    "        ## the parameters in the mgt files are changed\n",
    "        for d in mgt:\n",
    "            d.setChangePar(\"CN2\",CN2,\"*\")\n",
    "            d.finishChangePar(core_nr)\n",
    "        \n",
    "        ## the parameters in the hru files are changed\n",
    "        for d in hru:\n",
    "            d.setChangePar(\"ESCO\",ESCO,\"s\")\n",
    "            d.finishChangePar(core_nr)\n",
    "        \n",
    "        try:\n",
    "            # os.system(\"calib_parallel\"+os.sep+\"parallel_\"+core_nr+os.sep+\"swat_64rel.exe\")\n",
    "            # swat is finally executed for the current iteration\n",
    "            # sub.check_call(\"'calib_parallel'+os.sep+'parallel_'+core_nr+os.sep+'swat_64rel.exe'\")\n",
    "            curdir = os.getcwd()\n",
    "            os.chdir('calib_parallel'+os.sep+'parallel_'+core_nr)\n",
    "            sub.call(['swat_64rel.exe'])\n",
    "            os.chdir(curdir)\n",
    "            # swat is finally executed for the current iteration\n",
    "            # sub.check_call(\"swat_64rel.exe\",cwd='calib_parallel'+os.sep+'parallel_'+core_nr+os.sep)\n",
    "            # subbasin number where output should be extracted\n",
    "            subbasins = [1]\n",
    "            # results = (read.rchOutputManipulator([\"FLOW_OUT\"],subbasins,\"indi\",False,1,core_nr),\n",
    "            #            read.subOutputManipulator([\"SURQ\",\"GW_Q\",\"LAT_Q\",\"PRECIP\"],subbasins,\"indi\",False,1,core_nr))\n",
    "            \n",
    "            results = (read.rchOutputManipulator([\"FLOW_OUT\"],subbasins,\"indi\",False,1,core_nr))\n",
    "            results = []\n",
    "            for subb in subbasins:\n",
    "                if subb<10:\n",
    "                    with open('calib_parallel'+os.sep+'parallel_'+core_nr+os.sep+'SWATsensitivity_FLOW_OUT_000'+str(subb)+'.rch', 'r') as fh:\n",
    "                        for line in fh:\n",
    "                            pass\n",
    "                        last = line\n",
    "                else:\n",
    "                    with open('calib_parallel'+os.sep+'parallel_'+core_nr+os.sep+'SWATsensitivity_FLOW_OUT_00'+str(subb)+'.rch', 'r') as fh:\n",
    "                        for line in fh:\n",
    "                            pass\n",
    "                        last = line\n",
    "                vals = last.split(' ')\n",
    "                oneresult=[]\n",
    "                for val in vals:\n",
    "                    oneresult.append(float(val))\n",
    "                    \n",
    "                results.append(oneresult)\n",
    "        except:\n",
    "            raise\n",
    "            print(\"SWAT produced an error, returning nans\")\n",
    "            # Number of simulations that SWAT creates (without warm-up period)\n",
    "            results = [[np.nan]*self.nr_of_observations]\n",
    "        return results\n",
    "    "
   ]
  },
  {
   "cell_type": "code",
   "execution_count": 7,
   "metadata": {},
   "outputs": [
    {
     "data": {
      "text/plain": [
       "1"
      ]
     },
     "metadata": {},
     "output_type": "display_data"
    },
    {
     "data": {
      "text/plain": [
       "0"
      ]
     },
     "metadata": {},
     "output_type": "display_data"
    },
    {
     "name": "stdout",
     "output_type": "stream",
     "text": [
      "seq\n",
      "Initializing the  Latin Hypercube Sampling (LHS)  with  5  repetitions\n",
      "Starting the LHS algotrithm with 5 repetitions...\n",
      "Creating LatinHyperCube Matrix\n",
      "Deleting folder calib_parallel\\parallel_1\n",
      "Copying folder calib_parallel\\parallel_1\n",
      "1 of 5, min objf=-20.808, max objf=-20.808, time remaining: 00:00:48\n",
      "Initialize database...\n",
      "['csv', 'hdf5', 'ram', 'sql', 'custom', 'noData']\n",
      "* Database file 'calib_parallel\\SWAT-discharge_lhs.csv' created.\n",
      "Deleting folder calib_parallel\\parallel_1\n",
      "Copying folder calib_parallel\\parallel_1\n",
      "2 of 5, min objf=-20.808, max objf=-20.668, time remaining: 00:00:37\n",
      "Deleting folder calib_parallel\\parallel_1\n",
      "Copying folder calib_parallel\\parallel_1\n",
      "3 of 5, min objf=-20.808, max objf=-20.668, time remaining: 00:00:20\n",
      "Deleting folder calib_parallel\\parallel_1\n",
      "Copying folder calib_parallel\\parallel_1\n",
      "4 of 5, min objf=-20.808, max objf=-20.668, time remaining: 00:00:00\n",
      "Deleting folder calib_parallel\\parallel_1\n",
      "Copying folder calib_parallel\\parallel_1\n",
      "5 of 5, min objf=-20.808, max objf=-20.6546, time remaining: 23:59:39\n",
      "\n",
      "*** Final SPOTPY summary ***\n",
      "Total Duration: 125.99 seconds\n",
      "Total Repetitions: 5\n",
      "Minimal objective value: -20.808\n",
      "Corresponding parameter setting:\n",
      "SFTMP: -2.63093\n",
      "ksat: -0.189618\n",
      "CHN: 0.0370186\n",
      "GW_DELAY: 17.9556\n",
      "CN2: -0.146728\n",
      "ESCO: 0.063479\n",
      "Maximal objective value: -20.6546\n",
      "Corresponding parameter setting:\n",
      "SFTMP: -1.41369\n",
      "ksat: -0.131461\n",
      "CHN: 0.141743\n",
      "GW_DELAY: 23.6151\n",
      "CN2: -0.452446\n",
      "ESCO: 0.236726\n",
      "******************************\n",
      "\n"
     ]
    }
   ],
   "source": [
    "parallel = 'mpi' if 'OMPI_COMM_WORLD_SIZE' in os.environ else 'seq'\n",
    "\n",
    "from mpi4py import MPI\n",
    "\n",
    "comm = MPI.COMM_WORLD\n",
    "size = comm.Get_size()\n",
    "rank = comm.Get_rank()\n",
    "\n",
    "display(size)\n",
    "display(rank)\n",
    "print(parallel)\n",
    "\n",
    "# parallel = 'umpc'\n",
    "\n",
    "# Initiate class\n",
    "starter = spot_setup(parallel) \n",
    "\n",
    "sampler = spotpy.algorithms.lhs(starter, dbname='calib_parallel'+os.sep+'SWAT-discharge_lhs',dbformat='csv', parallel=parallel)\n",
    "sampler.sample(repetitions=5)\n"
   ]
  },
  {
   "cell_type": "code",
   "execution_count": 10,
   "metadata": {},
   "outputs": [
    {
     "data": {
      "image/png": "[encoded data removed]",
      "text/plain": [
       "<Figure size 864x864 with 36 Axes>"
      ]
     },
     "metadata": {
      "needs_background": "light"
     },
     "output_type": "display_data"
    }
   ],
   "source": [
    "from spotpy import analyser   \n",
    "\n",
    "results = sampler.getdata()\n",
    "\n",
    "analyser.plot_parameterInteraction(results) \n"
   ]
  },
  {
   "cell_type": "code",
   "execution_count": 12,
   "metadata": {},
   "outputs": [
    {
     "name": "stdout",
     "output_type": "stream",
     "text": [
      "Best parameter set:\n",
      "SFTMP=-1.414, ksat=-0.1315, CHN=0.1417, GW_DELAY=23.61, CN2=-0.4524, ESCO=0.2367\n"
     ]
    },
    {
     "data": {
      "text/plain": [
       "array([(-1.414, -0.1315, 0.1417, 23.61, -0.4524, 0.2367)],\n",
       "      dtype={'names':['parSFTMP','parksat','parCHN','parGW_DELAY','parCN2','parESCO'], 'formats':['<f8','<f8','<f8','<f8','<f8','<f8'], 'offsets':[8,16,24,32,40,48], 'itemsize':11752})"
      ]
     },
     "execution_count": 12,
     "metadata": {},
     "output_type": "execute_result"
    }
   ],
   "source": [
    "# posterior = analyser.get_posterior(results, percentage=10)\n",
    "# analyser.plot_parameterInteraction(posterior)\n",
    "analyser.get_best_parameterset(results)\n"
   ]
  },
  {
   "cell_type": "code",
   "execution_count": 4,
   "metadata": {},
   "outputs": [
    {
     "data": {
      "text/plain": [
       "Uniform('cmax', [1.0, 500])"
      ]
     },
     "execution_count": 4,
     "metadata": {},
     "output_type": "execute_result"
    }
   ],
   "source": [
    "spotpy.parameter.Uniform('cmax',low=1.0 , high=500,  optguess=412.33)"
   ]
  },
  {
   "cell_type": "code",
   "execution_count": 5,
   "metadata": {},
   "outputs": [],
   "source": [
    "parameter_fname = 'input_wwr_hp.txt'\n",
    "observeddata_fname = 'observed'+os.sep+'discharge2.txt'\n",
    "observeddata = np.loadtxt(observeddata_fname)\n",
    "nr_of_observations = len(observeddata)\n",
    "para = 'seq'\n",
    "parf = np.genfromtxt(parameter_fname, delimiter=',', dtype=None, encoding='utf-8')\n",
    "\n",
    "params = []\n"
   ]
  },
  {
   "cell_type": "code",
   "execution_count": 6,
   "metadata": {},
   "outputs": [
    {
     "data": {
      "text/plain": [
       "array([('SFTMP', -5.0e+00,  5.  ), ('ksat', -2.5e-01,  0.25),\n",
       "       ('CHN',  1.0e-03,  0.3 ), ('GW_DELAY',  0.0e+00, 50.  ),\n",
       "       ('CN2', -5.0e-01,  0.25), ('ESCO',  0.0e+00,  1.  )],\n",
       "      dtype=[('f0', '<U8'), ('f1', '<f8'), ('f2', '<f8')])"
      ]
     },
     "execution_count": 6,
     "metadata": {},
     "output_type": "execute_result"
    }
   ],
   "source": [
    "parf"
   ]
  },
  {
   "cell_type": "code",
   "execution_count": 7,
   "metadata": {},
   "outputs": [
    {
     "name": "stdout",
     "output_type": "stream",
     "text": [
      "SFTMP, -5.0, np.mean( -5.0,5.0 = 0.0)\n",
      "Uniform('SFTMP', [-5.0, 0.0])\n",
      "ksat, -0.25, np.mean( -0.25,0.25 = 0.0)\n",
      "Uniform('ksat', [-0.25, 0.0])\n",
      "CHN, 0.001, np.mean( 0.001,0.3 = 0.1505)\n",
      "Uniform('CHN', [0.001, 0.1505])\n",
      "GW_DELAY, 0.0, np.mean( 0.0,50.0 = 25.0)\n",
      "Uniform('GW_DELAY', [0.0, 25.0])\n",
      "CN2, -0.5, np.mean( -0.5,0.25 = -0.125)\n",
      "Uniform('CN2', [-0.5, -0.125])\n",
      "ESCO, 0.0, np.mean( 0.0,1.0 = 0.5)\n",
      "Uniform('ESCO', [0.0, 0.5])\n"
     ]
    }
   ],
   "source": [
    "for i in range(len(parf)):\n",
    "    print(f\"{parf[i][0]}, {parf[i][1]}, np.mean( {parf[i][1]},{parf[i][2]} = {np.mean([parf[i][1],parf[i][2]])})\")\n",
    "    print(spotpy.parameter.Uniform(parf[i][0], parf[i][1], np.mean( [parf[i][1],parf[i][2]] )))\n",
    "    params.append(spotpy.parameter.Uniform(parf[i][0], parf[i][1], np.mean( [parf[i][1],parf[i][2]] )))"
   ]
  },
  {
   "cell_type": "code",
   "execution_count": 8,
   "metadata": {},
   "outputs": [
    {
     "data": {
      "text/plain": [
       "array([(-3.92052358, 'SFTMP', 0.549 , -2.6   , -5.00e+00, -1.12e-03, False),\n",
       "       (-0.21819385, 'ksat', 0.0222, -0.127 , -2.50e-01, -6.16e-06, False),\n",
       "       ( 0.05766887, 'CHN', 0.0131,  0.0757,  1.01e-03,  1.50e-01, False),\n",
       "       (12.5985647 , 'GW_DELAY', 2.42  , 12.5   ,  4.15e-02,  2.50e+01, False),\n",
       "       (-0.17684914, 'CN2', 0.0368, -0.311 , -5.00e-01, -1.26e-01, False),\n",
       "       ( 0.26136814, 'ESCO', 0.0538,  0.249 ,  1.48e-03,  5.00e-01, False)],\n",
       "      dtype=[('random', '<f8'), ('name', '<U30'), ('step', '<f8'), ('optguess', '<f8'), ('minbound', '<f8'), ('maxbound', '<f8'), ('as_int', '?')])"
      ]
     },
     "execution_count": 8,
     "metadata": {},
     "output_type": "execute_result"
    }
   ],
   "source": [
    "spotpy.parameter.generate(params)"
   ]
  },
  {
   "cell_type": "code",
   "execution_count": 1,
   "metadata": {},
   "outputs": [],
   "source": [
    "from mpi4py import MPI\n",
    "\n",
    "comm = MPI.COMM_WORLD\n",
    "size = comm.Get_size()\n",
    "rank = comm.Get_rank()\n",
    "\n",
    "display(size)\n",
    "display(rank)"
   ]
  },
  {
   "cell_type": "code",
   "execution_count": 2,
   "metadata": {},
   "outputs": [
    {
     "data": {
      "text/plain": [
       "1"
      ]
     },
     "metadata": {},
     "output_type": "display_data"
    },
    {
     "data": {
      "text/plain": [
       "0"
      ]
     },
     "metadata": {},
     "output_type": "display_data"
    }
   ],
   "source": []
  },
  {
   "cell_type": "code",
   "execution_count": 4,
   "metadata": {},
   "outputs": [
    {
     "data": {
      "text/plain": [
       "'seq'"
      ]
     },
     "execution_count": 4,
     "metadata": {},
     "output_type": "execute_result"
    }
   ],
   "source": [
    "import os\n",
    "'mpi' if 'OMPI_COMM_WORLD_SIZE' in os.environ else 'seq'"
   ]
  },
  {
   "cell_type": "code",
   "execution_count": 2,
   "metadata": {},
   "outputs": [
    {
     "data": {
      "text/html": [
       "<div>\n",
       "<style scoped>\n",
       "    .dataframe tbody tr th:only-of-type {\n",
       "        vertical-align: middle;\n",
       "    }\n",
       "\n",
       "    .dataframe tbody tr th {\n",
       "        vertical-align: top;\n",
       "    }\n",
       "\n",
       "    .dataframe thead th {\n",
       "        text-align: right;\n",
       "    }\n",
       "</style>\n",
       "<table border=\"1\" class=\"dataframe\">\n",
       "  <thead>\n",
       "    <tr style=\"text-align: right;\">\n",
       "      <th></th>\n",
       "      <th>grid_id</th>\n",
       "      <th>filename</th>\n",
       "      <th>zone_id</th>\n",
       "      <th>zoverlap_i</th>\n",
       "      <th>geometry</th>\n",
       "    </tr>\n",
       "  </thead>\n",
       "  <tbody>\n",
       "    <tr>\n",
       "      <th>1</th>\n",
       "      <td>51694</td>\n",
       "      <td>51694_dem_1m.tif</td>\n",
       "      <td>1.0</td>\n",
       "      <td>1.0</td>\n",
       "      <td>POLYGON ((400000.000 6465000.000, 395000.000 6...</td>\n",
       "    </tr>\n",
       "    <tr>\n",
       "      <th>138</th>\n",
       "      <td>64971</td>\n",
       "      <td>64971_dem_1m.tif</td>\n",
       "      <td>2.0</td>\n",
       "      <td>2.0</td>\n",
       "      <td>POLYGON ((675000.000 6590000.000, 670000.000 6...</td>\n",
       "    </tr>\n",
       "    <tr>\n",
       "      <th>115</th>\n",
       "      <td>64934</td>\n",
       "      <td>64934_dem_1m.tif</td>\n",
       "      <td>2.0</td>\n",
       "      <td>2.0</td>\n",
       "      <td>POLYGON ((640000.000 6595000.000, 635000.000 6...</td>\n",
       "    </tr>\n",
       "    <tr>\n",
       "      <th>2481</th>\n",
       "      <td>64224</td>\n",
       "      <td>64224_dem_1m.tif</td>\n",
       "      <td>20.0</td>\n",
       "      <td>20.0</td>\n",
       "      <td>POLYGON ((630000.000 6525000.000, 625000.000 6...</td>\n",
       "    </tr>\n",
       "    <tr>\n",
       "      <th>1918</th>\n",
       "      <td>64611</td>\n",
       "      <td>64611_dem_1m.tif</td>\n",
       "      <td>16.0</td>\n",
       "      <td>16.0</td>\n",
       "      <td>POLYGON ((615000.000 6560000.000, 610000.000 6...</td>\n",
       "    </tr>\n",
       "  </tbody>\n",
       "</table>\n",
       "</div>"
      ],
      "text/plain": [
       "      grid_id          filename  zone_id  zoverlap_i  \\\n",
       "1       51694  51694_dem_1m.tif      1.0         1.0   \n",
       "138     64971  64971_dem_1m.tif      2.0         2.0   \n",
       "115     64934  64934_dem_1m.tif      2.0         2.0   \n",
       "2481    64224  64224_dem_1m.tif     20.0        20.0   \n",
       "1918    64611  64611_dem_1m.tif     16.0        16.0   \n",
       "\n",
       "                                               geometry  \n",
       "1     POLYGON ((400000.000 6465000.000, 395000.000 6...  \n",
       "138   POLYGON ((675000.000 6590000.000, 670000.000 6...  \n",
       "115   POLYGON ((640000.000 6595000.000, 635000.000 6...  \n",
       "2481  POLYGON ((630000.000 6525000.000, 625000.000 6...  \n",
       "1918  POLYGON ((615000.000 6560000.000, 610000.000 6...  "
      ]
     },
     "execution_count": 2,
     "metadata": {},
     "output_type": "execute_result"
    }
   ],
   "source": [
    "# only tmp, delete after use\n",
    "import geopandas as gpd\n",
    "\n",
    "gdf = gpd.read_file(r'C:\\dev\\05_geodata\\qgis_map_projects\\kik_project\\grid_tiles\\DEM_1m_grid_cells_wzone_overlap_multi.shp', encoding='utf-8')\n",
    "\n",
    "gdf.sample(5)"
   ]
  },
  {
   "cell_type": "code",
   "execution_count": 6,
   "metadata": {},
   "outputs": [
    {
     "data": {
      "text/plain": [
       "True"
      ]
     },
     "execution_count": 6,
     "metadata": {},
     "output_type": "execute_result"
    }
   ],
   "source": [
    "zone_ids = gdf['zone_id'].unique()\n",
    "zone_ids_o = gdf['zoverlap_i'].unique()\n",
    "sorted(zone_ids) == sorted(zone_ids_o)"
   ]
  },
  {
   "cell_type": "code",
   "execution_count": 9,
   "metadata": {},
   "outputs": [
    {
     "data": {
      "text/plain": [
       "2074"
      ]
     },
     "metadata": {},
     "output_type": "display_data"
    },
    {
     "data": {
      "text/plain": [
       "2841"
      ]
     },
     "metadata": {},
     "output_type": "display_data"
    }
   ],
   "source": [
    "display(len(gdf['grid_id'].unique()))\n",
    "display(len(gdf['zoverlap_i']))"
   ]
  },
  {
   "cell_type": "code",
   "execution_count": 13,
   "metadata": {},
   "outputs": [],
   "source": [
    "p = r'C:\\dev\\05_geodata\\qgis_map_projects\\kik_project\\grid_tiles'\n",
    "\n",
    "for i in sorted(zone_ids):\n",
    "    fs = gdf[gdf['zoverlap_i'] == i]['filename']\n",
    "    \n",
    "    with open(os.path.join(p, f\"zone_{int(i)}_dem.csv\"), 'w', encoding='utf-8') as fh:\n",
    "        for elem in fs.unique().tolist():\n",
    "            fh.write(f\"{elem}\\n\")\n",
    "            fh.flush()\n",
    "    "
   ]
  },
  {
   "cell_type": "code",
   "execution_count": 37,
   "metadata": {},
   "outputs": [
    {
     "data": {
      "text/plain": [
       "b'0...10...20...30...40...50...60...70...80...90...100 - done.\\r\\n'"
      ]
     },
     "metadata": {},
     "output_type": "display_data"
    },
    {
     "data": {
      "text/plain": [
       "'gdalbuildvrt -input_file_list zone_1_dem.csv -a_srs EPSG:3301 -overwrite C:\\\\dev\\\\05_geodata\\\\qgis_map_projects\\\\kik_project\\\\grid_tiles\\\\zone_1_dem.vrt'"
      ]
     },
     "metadata": {},
     "output_type": "display_data"
    },
    {
     "data": {
      "text/plain": [
       "0"
      ]
     },
     "metadata": {},
     "output_type": "display_data"
    },
    {
     "data": {
      "text/plain": [
       "b'0...10...20...30...40...50...60...70...80...90...100 - done.\\r\\n'"
      ]
     },
     "metadata": {},
     "output_type": "display_data"
    },
    {
     "data": {
      "text/plain": [
       "'gdalbuildvrt -input_file_list zone_2_dem.csv -a_srs EPSG:3301 -overwrite C:\\\\dev\\\\05_geodata\\\\qgis_map_projects\\\\kik_project\\\\grid_tiles\\\\zone_2_dem.vrt'"
      ]
     },
     "metadata": {},
     "output_type": "display_data"
    },
    {
     "data": {
      "text/plain": [
       "0"
      ]
     },
     "metadata": {},
     "output_type": "display_data"
    },
    {
     "data": {
      "text/plain": [
       "b'0...10...20...30...40...50...60...70...80...90...100 - done.\\r\\n'"
      ]
     },
     "metadata": {},
     "output_type": "display_data"
    },
    {
     "data": {
      "text/plain": [
       "'gdalbuildvrt -input_file_list zone_3_dem.csv -a_srs EPSG:3301 -overwrite C:\\\\dev\\\\05_geodata\\\\qgis_map_projects\\\\kik_project\\\\grid_tiles\\\\zone_3_dem.vrt'"
      ]
     },
     "metadata": {},
     "output_type": "display_data"
    },
    {
     "data": {
      "text/plain": [
       "0"
      ]
     },
     "metadata": {},
     "output_type": "display_data"
    },
    {
     "data": {
      "text/plain": [
       "b'0...10...20...30...40...50...60...70...80...90...100 - done.\\r\\n'"
      ]
     },
     "metadata": {},
     "output_type": "display_data"
    },
    {
     "data": {
      "text/plain": [
       "'gdalbuildvrt -input_file_list zone_4_dem.csv -a_srs EPSG:3301 -overwrite C:\\\\dev\\\\05_geodata\\\\qgis_map_projects\\\\kik_project\\\\grid_tiles\\\\zone_4_dem.vrt'"
      ]
     },
     "metadata": {},
     "output_type": "display_data"
    },
    {
     "data": {
      "text/plain": [
       "0"
      ]
     },
     "metadata": {},
     "output_type": "display_data"
    },
    {
     "data": {
      "text/plain": [
       "b'0...10...20...30...40...50...60...70...80...90...100 - done.\\r\\n'"
      ]
     },
     "metadata": {},
     "output_type": "display_data"
    },
    {
     "data": {
      "text/plain": [
       "'gdalbuildvrt -input_file_list zone_5_dem.csv -a_srs EPSG:3301 -overwrite C:\\\\dev\\\\05_geodata\\\\qgis_map_projects\\\\kik_project\\\\grid_tiles\\\\zone_5_dem.vrt'"
      ]
     },
     "metadata": {},
     "output_type": "display_data"
    },
    {
     "data": {
      "text/plain": [
       "0"
      ]
     },
     "metadata": {},
     "output_type": "display_data"
    },
    {
     "data": {
      "text/plain": [
       "b'0...10...20...30...40...50...60...70...80...90...100 - done.\\r\\n'"
      ]
     },
     "metadata": {},
     "output_type": "display_data"
    },
    {
     "data": {
      "text/plain": [
       "'gdalbuildvrt -input_file_list zone_6_dem.csv -a_srs EPSG:3301 -overwrite C:\\\\dev\\\\05_geodata\\\\qgis_map_projects\\\\kik_project\\\\grid_tiles\\\\zone_6_dem.vrt'"
      ]
     },
     "metadata": {},
     "output_type": "display_data"
    },
    {
     "data": {
      "text/plain": [
       "0"
      ]
     },
     "metadata": {},
     "output_type": "display_data"
    },
    {
     "data": {
      "text/plain": [
       "b'0...10...20...30...40...50...60...70...80...90...100 - done.\\r\\n'"
      ]
     },
     "metadata": {},
     "output_type": "display_data"
    },
    {
     "data": {
      "text/plain": [
       "'gdalbuildvrt -input_file_list zone_7_dem.csv -a_srs EPSG:3301 -overwrite C:\\\\dev\\\\05_geodata\\\\qgis_map_projects\\\\kik_project\\\\grid_tiles\\\\zone_7_dem.vrt'"
      ]
     },
     "metadata": {},
     "output_type": "display_data"
    },
    {
     "data": {
      "text/plain": [
       "0"
      ]
     },
     "metadata": {},
     "output_type": "display_data"
    },
    {
     "data": {
      "text/plain": [
       "b'0...10...20...30...40...50...60...70...80...90...100 - done.\\r\\n'"
      ]
     },
     "metadata": {},
     "output_type": "display_data"
    },
    {
     "data": {
      "text/plain": [
       "'gdalbuildvrt -input_file_list zone_8_dem.csv -a_srs EPSG:3301 -overwrite C:\\\\dev\\\\05_geodata\\\\qgis_map_projects\\\\kik_project\\\\grid_tiles\\\\zone_8_dem.vrt'"
      ]
     },
     "metadata": {},
     "output_type": "display_data"
    },
    {
     "data": {
      "text/plain": [
       "0"
      ]
     },
     "metadata": {},
     "output_type": "display_data"
    },
    {
     "data": {
      "text/plain": [
       "b'0...10...20...30...40...50...60...70...80...90...100 - done.\\r\\n'"
      ]
     },
     "metadata": {},
     "output_type": "display_data"
    },
    {
     "data": {
      "text/plain": [
       "'gdalbuildvrt -input_file_list zone_9_dem.csv -a_srs EPSG:3301 -overwrite C:\\\\dev\\\\05_geodata\\\\qgis_map_projects\\\\kik_project\\\\grid_tiles\\\\zone_9_dem.vrt'"
      ]
     },
     "metadata": {},
     "output_type": "display_data"
    },
    {
     "data": {
      "text/plain": [
       "0"
      ]
     },
     "metadata": {},
     "output_type": "display_data"
    },
    {
     "data": {
      "text/plain": [
       "b'0...10...20...30...40...50...60...70...80...90...100 - done.\\r\\n'"
      ]
     },
     "metadata": {},
     "output_type": "display_data"
    },
    {
     "data": {
      "text/plain": [
       "'gdalbuildvrt -input_file_list zone_10_dem.csv -a_srs EPSG:3301 -overwrite C:\\\\dev\\\\05_geodata\\\\qgis_map_projects\\\\kik_project\\\\grid_tiles\\\\zone_10_dem.vrt'"
      ]
     },
     "metadata": {},
     "output_type": "display_data"
    },
    {
     "data": {
      "text/plain": [
       "0"
      ]
     },
     "metadata": {},
     "output_type": "display_data"
    },
    {
     "data": {
      "text/plain": [
       "b'0...10...20...30...40...50...60...70...80...90...100 - done.\\r\\n'"
      ]
     },
     "metadata": {},
     "output_type": "display_data"
    },
    {
     "data": {
      "text/plain": [
       "'gdalbuildvrt -input_file_list zone_11_dem.csv -a_srs EPSG:3301 -overwrite C:\\\\dev\\\\05_geodata\\\\qgis_map_projects\\\\kik_project\\\\grid_tiles\\\\zone_11_dem.vrt'"
      ]
     },
     "metadata": {},
     "output_type": "display_data"
    },
    {
     "data": {
      "text/plain": [
       "0"
      ]
     },
     "metadata": {},
     "output_type": "display_data"
    },
    {
     "data": {
      "text/plain": [
       "b'0...10...20...30...40...50...60...70...80...90...100 - done.\\r\\n'"
      ]
     },
     "metadata": {},
     "output_type": "display_data"
    },
    {
     "data": {
      "text/plain": [
       "'gdalbuildvrt -input_file_list zone_12_dem.csv -a_srs EPSG:3301 -overwrite C:\\\\dev\\\\05_geodata\\\\qgis_map_projects\\\\kik_project\\\\grid_tiles\\\\zone_12_dem.vrt'"
      ]
     },
     "metadata": {},
     "output_type": "display_data"
    },
    {
     "data": {
      "text/plain": [
       "0"
      ]
     },
     "metadata": {},
     "output_type": "display_data"
    },
    {
     "data": {
      "text/plain": [
       "b'0...10...20...30...40...50...60...70...80...90...100 - done.\\r\\n'"
      ]
     },
     "metadata": {},
     "output_type": "display_data"
    },
    {
     "data": {
      "text/plain": [
       "'gdalbuildvrt -input_file_list zone_13_dem.csv -a_srs EPSG:3301 -overwrite C:\\\\dev\\\\05_geodata\\\\qgis_map_projects\\\\kik_project\\\\grid_tiles\\\\zone_13_dem.vrt'"
      ]
     },
     "metadata": {},
     "output_type": "display_data"
    },
    {
     "data": {
      "text/plain": [
       "0"
      ]
     },
     "metadata": {},
     "output_type": "display_data"
    },
    {
     "data": {
      "text/plain": [
       "b'0...10...20...30...40...50...60...70...80...90...100 - done.\\r\\n'"
      ]
     },
     "metadata": {},
     "output_type": "display_data"
    },
    {
     "data": {
      "text/plain": [
       "'gdalbuildvrt -input_file_list zone_14_dem.csv -a_srs EPSG:3301 -overwrite C:\\\\dev\\\\05_geodata\\\\qgis_map_projects\\\\kik_project\\\\grid_tiles\\\\zone_14_dem.vrt'"
      ]
     },
     "metadata": {},
     "output_type": "display_data"
    },
    {
     "data": {
      "text/plain": [
       "0"
      ]
     },
     "metadata": {},
     "output_type": "display_data"
    },
    {
     "data": {
      "text/plain": [
       "b'0...10...20...30...40...50...60...70...80...90...100 - done.\\r\\n'"
      ]
     },
     "metadata": {},
     "output_type": "display_data"
    },
    {
     "data": {
      "text/plain": [
       "'gdalbuildvrt -input_file_list zone_15_dem.csv -a_srs EPSG:3301 -overwrite C:\\\\dev\\\\05_geodata\\\\qgis_map_projects\\\\kik_project\\\\grid_tiles\\\\zone_15_dem.vrt'"
      ]
     },
     "metadata": {},
     "output_type": "display_data"
    },
    {
     "data": {
      "text/plain": [
       "0"
      ]
     },
     "metadata": {},
     "output_type": "display_data"
    },
    {
     "data": {
      "text/plain": [
       "b'0...10...20...30...40...50...60...70...80...90...100 - done.\\r\\n'"
      ]
     },
     "metadata": {},
     "output_type": "display_data"
    },
    {
     "data": {
      "text/plain": [
       "'gdalbuildvrt -input_file_list zone_16_dem.csv -a_srs EPSG:3301 -overwrite C:\\\\dev\\\\05_geodata\\\\qgis_map_projects\\\\kik_project\\\\grid_tiles\\\\zone_16_dem.vrt'"
      ]
     },
     "metadata": {},
     "output_type": "display_data"
    },
    {
     "data": {
      "text/plain": [
       "0"
      ]
     },
     "metadata": {},
     "output_type": "display_data"
    },
    {
     "data": {
      "text/plain": [
       "b'0...10...20...30...40...50...60...70...80...90...100 - done.\\r\\n'"
      ]
     },
     "metadata": {},
     "output_type": "display_data"
    },
    {
     "data": {
      "text/plain": [
       "'gdalbuildvrt -input_file_list zone_17_dem.csv -a_srs EPSG:3301 -overwrite C:\\\\dev\\\\05_geodata\\\\qgis_map_projects\\\\kik_project\\\\grid_tiles\\\\zone_17_dem.vrt'"
      ]
     },
     "metadata": {},
     "output_type": "display_data"
    },
    {
     "data": {
      "text/plain": [
       "0"
      ]
     },
     "metadata": {},
     "output_type": "display_data"
    },
    {
     "data": {
      "text/plain": [
       "b'0...10...20...30...40...50...60...70...80...90...100 - done.\\r\\n'"
      ]
     },
     "metadata": {},
     "output_type": "display_data"
    },
    {
     "data": {
      "text/plain": [
       "'gdalbuildvrt -input_file_list zone_18_dem.csv -a_srs EPSG:3301 -overwrite C:\\\\dev\\\\05_geodata\\\\qgis_map_projects\\\\kik_project\\\\grid_tiles\\\\zone_18_dem.vrt'"
      ]
     },
     "metadata": {},
     "output_type": "display_data"
    },
    {
     "data": {
      "text/plain": [
       "0"
      ]
     },
     "metadata": {},
     "output_type": "display_data"
    },
    {
     "data": {
      "text/plain": [
       "b'0...10...20...30...40...50...60...70...80...90...100 - done.\\r\\n'"
      ]
     },
     "metadata": {},
     "output_type": "display_data"
    },
    {
     "data": {
      "text/plain": [
       "'gdalbuildvrt -input_file_list zone_19_dem.csv -a_srs EPSG:3301 -overwrite C:\\\\dev\\\\05_geodata\\\\qgis_map_projects\\\\kik_project\\\\grid_tiles\\\\zone_19_dem.vrt'"
      ]
     },
     "metadata": {},
     "output_type": "display_data"
    },
    {
     "data": {
      "text/plain": [
       "0"
      ]
     },
     "metadata": {},
     "output_type": "display_data"
    },
    {
     "data": {
      "text/plain": [
       "b'0...10...20...30...40...50...60...70...80...90...100 - done.\\r\\n'"
      ]
     },
     "metadata": {},
     "output_type": "display_data"
    },
    {
     "data": {
      "text/plain": [
       "'gdalbuildvrt -input_file_list zone_20_dem.csv -a_srs EPSG:3301 -overwrite C:\\\\dev\\\\05_geodata\\\\qgis_map_projects\\\\kik_project\\\\grid_tiles\\\\zone_20_dem.vrt'"
      ]
     },
     "metadata": {},
     "output_type": "display_data"
    },
    {
     "data": {
      "text/plain": [
       "0"
      ]
     },
     "metadata": {},
     "output_type": "display_data"
    },
    {
     "data": {
      "text/plain": [
       "b'0...10...20...30...40...50...60...70...80...90...100 - done.\\r\\n'"
      ]
     },
     "metadata": {},
     "output_type": "display_data"
    },
    {
     "data": {
      "text/plain": [
       "'gdalbuildvrt -input_file_list zone_21_dem.csv -a_srs EPSG:3301 -overwrite C:\\\\dev\\\\05_geodata\\\\qgis_map_projects\\\\kik_project\\\\grid_tiles\\\\zone_21_dem.vrt'"
      ]
     },
     "metadata": {},
     "output_type": "display_data"
    },
    {
     "data": {
      "text/plain": [
       "0"
      ]
     },
     "metadata": {},
     "output_type": "display_data"
    },
    {
     "data": {
      "text/plain": [
       "b'0...10...20...30...40...50...60...70...80...90...100 - done.\\r\\n'"
      ]
     },
     "metadata": {},
     "output_type": "display_data"
    },
    {
     "data": {
      "text/plain": [
       "'gdalbuildvrt -input_file_list zone_22_dem.csv -a_srs EPSG:3301 -overwrite C:\\\\dev\\\\05_geodata\\\\qgis_map_projects\\\\kik_project\\\\grid_tiles\\\\zone_22_dem.vrt'"
      ]
     },
     "metadata": {},
     "output_type": "display_data"
    },
    {
     "data": {
      "text/plain": [
       "0"
      ]
     },
     "metadata": {},
     "output_type": "display_data"
    }
   ],
   "source": [
    "import subprocess\n",
    "\n",
    "s = r'Z:\\Evelyn\\est_topographic_metrics\\1m\\DEM_tiff'\n",
    "\n",
    "cur_keep = os.path.abspath(os.curdir)\n",
    "\n",
    "os.chdir(s)\n",
    "\n",
    "for i in sorted(zone_ids):\n",
    "    # gdalbuildvrt -input_file_list zone_xxx_dem.csv -a_srs EPSG:3301 zone_xxx_dem.vrt \n",
    "    o = subprocess.run([\"gdalbuildvrt\", \"-input_file_list\", f\"zone_{int(i)}_dem.csv\", \"-a_srs\", \"EPSG:3301\", \"-overwrite\", os.path.join(p, f\"zone_{int(i)}_dem.vrt\")], capture_output=True)\n",
    "    # o = [\"gdalbuildvrt\", \"-input_file_list\", os.path.join(p, f\"zone_{int(i)}_dem.csv\"), \"-a_srs\", \"EPSG:3301\", os.path.join(p, f\"zone_{int(i)}_dem.vrt\")]\n",
    "    display(o.stdout)\n",
    "    display(' '.join(o.args))\n",
    "    display(o.returncode)\n",
    "\n",
    "os.chdir(cur_keep)"
   ]
  },
  {
   "cell_type": "code",
   "execution_count": 39,
   "metadata": {},
   "outputs": [
    {
     "name": "stdout",
     "output_type": "stream",
     "text": [
      "Copying src folder as temp\n"
     ]
    },
    {
     "ename": "TypeError",
     "evalue": "can only concatenate str (not \"int\") to str",
     "output_type": "error",
     "traceback": [
      "\u001b[1;31m---------------------------------------------------------------------------\u001b[0m",
      "\u001b[1;31mTypeError\u001b[0m                                 Traceback (most recent call last)",
      "\u001b[1;32m<ipython-input-39-c6b630515281>\u001b[0m in \u001b[0;36m<module>\u001b[1;34m\u001b[0m\n\u001b[0;32m     23\u001b[0m \u001b[0mbsn\u001b[0m \u001b[1;33m=\u001b[0m \u001b[1;33m[\u001b[0m\u001b[1;33m]\u001b[0m\u001b[1;33m\u001b[0m\u001b[1;33m\u001b[0m\u001b[0m\n\u001b[0;32m     24\u001b[0m \u001b[1;32mfor\u001b[0m \u001b[0mi\u001b[0m \u001b[1;32min\u001b[0m \u001b[0mbsnfiles\u001b[0m\u001b[1;33m:\u001b[0m\u001b[1;33m\u001b[0m\u001b[1;33m\u001b[0m\u001b[0m\n\u001b[1;32m---> 25\u001b[1;33m     \u001b[0mbsn\u001b[0m\u001b[1;33m.\u001b[0m\u001b[0mappend\u001b[0m\u001b[1;33m(\u001b[0m\u001b[0mbsnManipulator\u001b[0m\u001b[1;33m(\u001b[0m\u001b[0mi\u001b[0m\u001b[1;33m,\u001b[0m \u001b[1;33m[\u001b[0m\u001b[1;34m\"SURLAG\"\u001b[0m\u001b[1;33m,\u001b[0m\u001b[1;34m\"SFTMP\"\u001b[0m\u001b[1;33m,\u001b[0m\u001b[1;34m\"SMTMP\"\u001b[0m\u001b[1;33m,\u001b[0m\u001b[1;34m\"TIMP\"\u001b[0m\u001b[1;33m,\u001b[0m\u001b[1;34m\"ESCO\"\u001b[0m\u001b[1;33m,\u001b[0m\u001b[1;34m\"EPCO\"\u001b[0m\u001b[1;33m]\u001b[0m\u001b[1;33m,\u001b[0m \u001b[0mcore_nr\u001b[0m\u001b[1;33m)\u001b[0m\u001b[1;33m)\u001b[0m\u001b[1;33m\u001b[0m\u001b[1;33m\u001b[0m\u001b[0m\n\u001b[0m\u001b[0;32m     26\u001b[0m \u001b[0mmanipulators\u001b[0m\u001b[1;33m[\u001b[0m\u001b[1;34m\"bsn\"\u001b[0m\u001b[1;33m]\u001b[0m \u001b[1;33m=\u001b[0m \u001b[0mbsn\u001b[0m\u001b[1;33m\u001b[0m\u001b[1;33m\u001b[0m\u001b[0m\n\u001b[0;32m     27\u001b[0m \u001b[1;33m\u001b[0m\u001b[0m\n",
      "\u001b[1;32mC:\\dev\\05_geodata\\articles\\swatp_sensitvity_porijogi\\spotpy-swat\\SWAT_Manipulate.py\u001b[0m in \u001b[0;36m__init__\u001b[1;34m(s, filename, parList, core_nr)\u001b[0m\n\u001b[0;32m    408\u001b[0m                       \u001b[1;34m\"ISMAX\"\u001b[0m\u001b[1;33m:\u001b[0m   \u001b[1;32mNone\u001b[0m\u001b[1;33m,\u001b[0m\u001b[1;33m\u001b[0m\u001b[1;33m\u001b[0m\u001b[0m\n\u001b[0;32m    409\u001b[0m                       \"IROUTUNIT\":\t None}\n\u001b[1;32m--> 410\u001b[1;33m         \u001b[0mInputFileManipulator\u001b[0m\u001b[1;33m.\u001b[0m\u001b[0m__init__\u001b[0m\u001b[1;33m(\u001b[0m\u001b[0ms\u001b[0m\u001b[1;33m,\u001b[0m \u001b[0mfilename\u001b[0m\u001b[1;33m,\u001b[0m \u001b[0mparList\u001b[0m\u001b[1;33m,\u001b[0m \u001b[0mcore_nr\u001b[0m\u001b[1;33m)\u001b[0m\u001b[1;33m\u001b[0m\u001b[1;33m\u001b[0m\u001b[0m\n\u001b[0m\u001b[0;32m    411\u001b[0m \u001b[1;33m\u001b[0m\u001b[0m\n\u001b[0;32m    412\u001b[0m \u001b[1;33m\u001b[0m\u001b[0m\n",
      "\u001b[1;32mC:\\dev\\05_geodata\\articles\\swatp_sensitvity_porijogi\\spotpy-swat\\SWAT_Manipulate.py\u001b[0m in \u001b[0;36m__init__\u001b[1;34m(s, filename, parList, core_nr)\u001b[0m\n\u001b[0;32m    107\u001b[0m \u001b[1;31m#        except KeyError:\u001b[0m\u001b[1;33m\u001b[0m\u001b[1;33m\u001b[0m\u001b[1;33m\u001b[0m\u001b[0m\n\u001b[0;32m    108\u001b[0m \u001b[1;31m#               core_nr = str(int(np.random.uniform(0,1000))) # if you run on windows\u001b[0m\u001b[1;33m\u001b[0m\u001b[1;33m\u001b[0m\u001b[1;33m\u001b[0m\u001b[0m\n\u001b[1;32m--> 109\u001b[1;33m         \u001b[0mffile\u001b[0m \u001b[1;33m=\u001b[0m \u001b[0mopen\u001b[0m\u001b[1;33m(\u001b[0m\u001b[1;34m'calib_parallel'\u001b[0m\u001b[1;33m+\u001b[0m\u001b[0mos\u001b[0m\u001b[1;33m.\u001b[0m\u001b[0msep\u001b[0m\u001b[1;33m+\u001b[0m\u001b[1;34m'parallel_'\u001b[0m\u001b[1;33m+\u001b[0m\u001b[0mcore_nr\u001b[0m\u001b[1;33m+\u001b[0m\u001b[0mos\u001b[0m\u001b[1;33m.\u001b[0m\u001b[0msep\u001b[0m\u001b[1;33m+\u001b[0m\u001b[0ms\u001b[0m\u001b[1;33m.\u001b[0m\u001b[0mfilename\u001b[0m\u001b[1;33m,\u001b[0m \u001b[1;34m\"r\"\u001b[0m\u001b[1;33m)\u001b[0m\u001b[1;33m\u001b[0m\u001b[1;33m\u001b[0m\u001b[0m\n\u001b[0m\u001b[0;32m    110\u001b[0m         \u001b[0ms\u001b[0m\u001b[1;33m.\u001b[0m\u001b[0mtextOld\u001b[0m \u001b[1;33m=\u001b[0m \u001b[0mffile\u001b[0m\u001b[1;33m.\u001b[0m\u001b[0mreadlines\u001b[0m\u001b[1;33m(\u001b[0m\u001b[1;33m)\u001b[0m\u001b[1;33m\u001b[0m\u001b[1;33m\u001b[0m\u001b[0m\n\u001b[0;32m    111\u001b[0m         \u001b[0mffile\u001b[0m\u001b[1;33m.\u001b[0m\u001b[0mclose\u001b[0m\u001b[1;33m(\u001b[0m\u001b[1;33m)\u001b[0m\u001b[1;33m\u001b[0m\u001b[1;33m\u001b[0m\u001b[0m\n",
      "\u001b[1;31mTypeError\u001b[0m: can only concatenate str (not \"int\") to str"
     ]
    }
   ],
   "source": [
    "import shutil\n",
    "\n",
    "pathdir = 'TxtInOut'\n",
    "outdir = 'temp'\n",
    "\n",
    "if os.path.exists(outdir):\n",
    "    print('Deleting tmp folder ' + outdir)\n",
    "    shutil.rmtree(outdir, onerror=self.onerror)\n",
    "    print('Copying src folder to ' + outdir)\n",
    "    shutil.copytree(pathdir, outdir)\n",
    "else:\n",
    "    print('Copying src folder as ' + outdir)\n",
    "    shutil.copytree('TxtInOut', outdir)\n",
    "\n",
    "files=os.listdir(outdir)\n",
    "\n",
    "core_nr = 1\n",
    "\n",
    "manipulators = {}\n",
    "\n",
    "### here all parameters from the bsn-file are assigned in the dictionary for calibration\n",
    "bsnfiles = [i for i in files if i.endswith(\".bsn\")]\n",
    "bsn = []\n",
    "for i in bsnfiles:\n",
    "    bsn.append(bsnManipulator(i, [\"SURLAG\",\"SFTMP\",\"SMTMP\",\"TIMP\",\"ESCO\",\"EPCO\"], core_nr))\n",
    "manipulators[\"bsn\"] = bsn\n",
    "\n",
    "### here all parameters from the gw-file are assigned in the dictionary for calibration\n",
    "gwfiles = [i for i in files if i.endswith(\".gw\")]\n",
    "gw = []\n",
    "for i in gwfiles:\n",
    "    gw.append(gwManipulator(i, [\"GW_DELAY\",\"ALPHA_BF\",\"GW_REVAP\",\"GWQMN\",\"RCHRG_DP\",\"REVAPMN\"], core_nr))\n",
    "manipulators[\"gw\"] = gw\n",
    "\n",
    "### here all parameters from the sol-file are assigned in the dictionary for calibration\n",
    "solfiles = [i for i in files if i.endswith(\".sol\")]\n",
    "sol = []\n",
    "for i in solfiles:\n",
    "    if solManipulator(i,[],core_nr).landuse != \"URBN\":\n",
    "        sol.append(solManipulator(i, [\"SOL_K\",\"ROCK\",\"SOL_AWC\"], core_nr))\n",
    "manipulators[\"sol\"] = sol\n",
    "\n",
    "## here all parameters from the hru-file are assigned in the dictionary for calibration\n",
    "hrufiles= [i for i in files if i.endswith(\".hru\")]\n",
    "hru=[]\n",
    "for i in hrufiles:\n",
    "    if i[0].isdigit():\n",
    "        hru.append(hruManipulator(i, [\"HRU_FR\",\"ESCO\",\"EPCO\",\"OV_N\",\"CANMX\"], core_nr))\n",
    "manipulators[\"hru\"] = hru\n",
    "\n",
    "### here all parameters from the rte-file are assigned in the dictionary for calibration\n",
    "rtefiles = [i for i in files if i.endswith(\".rte\")]\n",
    "rte = []\n",
    "for i in rtefiles:\n",
    "    rte.append(rteManipulator(i, [\"CH_N2\", \"CH_K2\"], core_nr))\n",
    "manipulators[\"rte\"] = rte\n",
    "\n",
    "### here all parameters from the mgt-file are assigned in the dictionary for calibration\n",
    "mgtfiles = [i for i in files if i.endswith(\".mgt\")]\n",
    "mgt = []\n",
    "for i in mgtfiles:\n",
    "    mgt.append(mgtManipulator(i, [\"CN2\"], core_nr))\n",
    "manipulators[\"mgt\"] = mgt\n"
   ]
  },
  {
   "cell_type": "code",
   "execution_count": 40,
   "metadata": {},
   "outputs": [
    {
     "data": {
      "text/plain": [
       "{}"
      ]
     },
     "execution_count": 40,
     "metadata": {},
     "output_type": "execute_result"
    }
   ],
   "source": [
    "manipulators"
   ]
  },
  {
   "cell_type": "code",
   "execution_count": 41,
   "metadata": {},
   "outputs": [],
   "source": [
    "import fastavro"
   ]
  },
  {
   "cell_type": "code",
   "execution_count": 42,
   "metadata": {},
   "outputs": [
    {
     "data": {
      "text/plain": [
       "<module 'fastavro' from 'C:\\\\dev\\\\conda3\\\\envs\\\\daskgeo2020a\\\\lib\\\\site-packages\\\\fastavro\\\\__init__.py'>"
      ]
     },
     "execution_count": 42,
     "metadata": {},
     "output_type": "execute_result"
    }
   ],
   "source": [
    "fastavro"
   ]
  },
  {
   "cell_type": "code",
   "execution_count": null,
   "metadata": {},
   "outputs": [],
   "source": []
  }
 ],
 "metadata": {
  "kernelspec": {
   "display_name": "Py37 (daskgeo2020a)",
   "language": "python",
   "name": "daskgeo2020a"
  },
  "language_info": {
   "codemirror_mode": {
    "name": "ipython",
    "version": 3
   },
   "file_extension": ".py",
   "mimetype": "text/x-python",
   "name": "python",
   "nbconvert_exporter": "python",
   "pygments_lexer": "ipython3",
   "version": "3.7.6"
  }
 },
 "nbformat": 4,
 "nbformat_minor": 4
}
